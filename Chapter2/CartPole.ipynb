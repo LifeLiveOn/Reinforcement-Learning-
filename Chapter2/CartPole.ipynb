{
 "cells": [
  {
   "cell_type": "code",
   "execution_count": 1,
   "id": "9cfb5732-b67c-4d39-855b-c3252c0d2fb4",
   "metadata": {},
   "outputs": [
    {
     "name": "stdout",
     "output_type": "stream",
     "text": [
      "[ 0.02811892  0.0437776  -0.01489726  0.01982767]\n",
      "Discrete(2)\n",
      "Box(4,)\n",
      "(array([ 0.02899447, -0.15112757, -0.01450071,  0.30777336]), 1.0, False, {})\n",
      "1\n",
      "[1.0041561e+00 2.8841428e+38 4.8391424e-02 7.0847151e+37]\n"
     ]
    }
   ],
   "source": [
    "#CartPole session\n",
    "import gym\n",
    "e = gym.make('CartPole-v1')\n",
    "\n",
    "obs = e.reset()\n",
    "print(obs) # [ 0.00000000e+00  0.00000000e+00  2.40000000e+00 -1.20000000e-01], we have 4 observations data\n",
    "print(e.action_space) # Discrete(2) , 2 actions move 0 or 1 0 to left, 1 to right\n",
    "print(e.observation_space) # Box(4,) number of observations\n",
    "\n",
    "print(e.step(0)) # take action 0 go to left, we will get a tuple of 4 values new observation\n",
    "#(array([-0.02894881, -0.2209735 ,  0.01005542,  0.33839016]), 1.0, False, {})\n",
    "#reward is 1.0, done is False, and info is empty\n",
    "\n",
    "print(e.action_space.sample()) # take a random action\n",
    "print(e.observation_space.sample()) # take a random observation"
   ]
  },
  {
   "cell_type": "code",
   "execution_count": 10,
   "id": "a5d919df-c321-45da-8013-e4bacec2a4a1",
   "metadata": {},
   "outputs": [
    {
     "ename": "AttributeError",
     "evalue": "module 'time' has no attribute 'clock'",
     "output_type": "error",
     "traceback": [
      "\u001b[1;31m---------------------------------------------------------------------------\u001b[0m",
      "\u001b[1;31mAttributeError\u001b[0m                            Traceback (most recent call last)",
      "File \u001b[1;32m~\\Desktop\\Personal PROJECT\\REINFORCEMENT HAND ON\\Chapter2\\.venv\\Lib\\site-packages\\pyglet\\__init__.py:378\u001b[0m, in \u001b[0;36m_ModuleProxy.__getattr__\u001b[1;34m(self, name)\u001b[0m\n\u001b[0;32m    377\u001b[0m \u001b[38;5;28;01mtry\u001b[39;00m:\n\u001b[1;32m--> 378\u001b[0m     \u001b[38;5;28;01mreturn\u001b[39;00m \u001b[38;5;28;43mgetattr\u001b[39;49m\u001b[43m(\u001b[49m\u001b[38;5;28;43mself\u001b[39;49m\u001b[38;5;241;43m.\u001b[39;49m\u001b[43m_module\u001b[49m\u001b[43m,\u001b[49m\u001b[43m \u001b[49m\u001b[43mname\u001b[49m\u001b[43m)\u001b[49m\n\u001b[0;32m    379\u001b[0m \u001b[38;5;28;01mexcept\u001b[39;00m \u001b[38;5;167;01mAttributeError\u001b[39;00m:\n",
      "\u001b[1;31mAttributeError\u001b[0m: 'NoneType' object has no attribute 'get_default'",
      "\nDuring handling of the above exception, another exception occurred:\n",
      "\u001b[1;31mAttributeError\u001b[0m                            Traceback (most recent call last)",
      "Cell \u001b[1;32mIn[10], line 7\u001b[0m\n\u001b[0;32m      5\u001b[0m total_reward \u001b[38;5;241m=\u001b[39m \u001b[38;5;241m0.0\u001b[39m\n\u001b[0;32m      6\u001b[0m total_steps \u001b[38;5;241m=\u001b[39m \u001b[38;5;241m0\u001b[39m\n\u001b[1;32m----> 7\u001b[0m obs \u001b[38;5;241m=\u001b[39m \u001b[43menv\u001b[49m\u001b[38;5;241;43m.\u001b[39;49m\u001b[43mreset\u001b[49m\u001b[43m(\u001b[49m\u001b[43m)\u001b[49m\n\u001b[0;32m      9\u001b[0m \u001b[38;5;66;03m#take action from agent\u001b[39;00m\n\u001b[0;32m     10\u001b[0m \u001b[38;5;28;01mwhile\u001b[39;00m \u001b[38;5;28;01mTrue\u001b[39;00m:\n",
      "File \u001b[1;32m~\\Desktop\\Personal PROJECT\\REINFORCEMENT HAND ON\\Chapter2\\.venv\\Lib\\site-packages\\gym\\wrappers\\monitor.py:39\u001b[0m, in \u001b[0;36mMonitor.reset\u001b[1;34m(self, **kwargs)\u001b[0m\n\u001b[0;32m     37\u001b[0m \u001b[38;5;28mself\u001b[39m\u001b[38;5;241m.\u001b[39m_before_reset()\n\u001b[0;32m     38\u001b[0m observation \u001b[38;5;241m=\u001b[39m \u001b[38;5;28mself\u001b[39m\u001b[38;5;241m.\u001b[39menv\u001b[38;5;241m.\u001b[39mreset(\u001b[38;5;241m*\u001b[39m\u001b[38;5;241m*\u001b[39mkwargs)\n\u001b[1;32m---> 39\u001b[0m \u001b[38;5;28;43mself\u001b[39;49m\u001b[38;5;241;43m.\u001b[39;49m\u001b[43m_after_reset\u001b[49m\u001b[43m(\u001b[49m\u001b[43mobservation\u001b[49m\u001b[43m)\u001b[49m\n\u001b[0;32m     41\u001b[0m \u001b[38;5;28;01mreturn\u001b[39;00m observation\n",
      "File \u001b[1;32m~\\Desktop\\Personal PROJECT\\REINFORCEMENT HAND ON\\Chapter2\\.venv\\Lib\\site-packages\\gym\\wrappers\\monitor.py:188\u001b[0m, in \u001b[0;36mMonitor._after_reset\u001b[1;34m(self, observation)\u001b[0m\n\u001b[0;32m    185\u001b[0m \u001b[38;5;66;03m# Reset the stat count\u001b[39;00m\n\u001b[0;32m    186\u001b[0m \u001b[38;5;28mself\u001b[39m\u001b[38;5;241m.\u001b[39mstats_recorder\u001b[38;5;241m.\u001b[39mafter_reset(observation)\n\u001b[1;32m--> 188\u001b[0m \u001b[38;5;28;43mself\u001b[39;49m\u001b[38;5;241;43m.\u001b[39;49m\u001b[43mreset_video_recorder\u001b[49m\u001b[43m(\u001b[49m\u001b[43m)\u001b[49m\n\u001b[0;32m    190\u001b[0m \u001b[38;5;66;03m# Bump *after* all reset activity has finished\u001b[39;00m\n\u001b[0;32m    191\u001b[0m \u001b[38;5;28mself\u001b[39m\u001b[38;5;241m.\u001b[39mepisode_id \u001b[38;5;241m+\u001b[39m\u001b[38;5;241m=\u001b[39m \u001b[38;5;241m1\u001b[39m\n",
      "File \u001b[1;32m~\\Desktop\\Personal PROJECT\\REINFORCEMENT HAND ON\\Chapter2\\.venv\\Lib\\site-packages\\gym\\wrappers\\monitor.py:209\u001b[0m, in \u001b[0;36mMonitor.reset_video_recorder\u001b[1;34m(self)\u001b[0m\n\u001b[0;32m    200\u001b[0m \u001b[38;5;66;03m# Start recording the next video.\u001b[39;00m\n\u001b[0;32m    201\u001b[0m \u001b[38;5;66;03m#\u001b[39;00m\n\u001b[0;32m    202\u001b[0m \u001b[38;5;66;03m# TODO: calculate a more correct 'episode_id' upon merge\u001b[39;00m\n\u001b[0;32m    203\u001b[0m \u001b[38;5;28mself\u001b[39m\u001b[38;5;241m.\u001b[39mvideo_recorder \u001b[38;5;241m=\u001b[39m video_recorder\u001b[38;5;241m.\u001b[39mVideoRecorder(\n\u001b[0;32m    204\u001b[0m     env\u001b[38;5;241m=\u001b[39m\u001b[38;5;28mself\u001b[39m\u001b[38;5;241m.\u001b[39menv,\n\u001b[0;32m    205\u001b[0m     base_path\u001b[38;5;241m=\u001b[39mos\u001b[38;5;241m.\u001b[39mpath\u001b[38;5;241m.\u001b[39mjoin(\u001b[38;5;28mself\u001b[39m\u001b[38;5;241m.\u001b[39mdirectory, \u001b[38;5;124m'\u001b[39m\u001b[38;5;132;01m{}\u001b[39;00m\u001b[38;5;124m.video.\u001b[39m\u001b[38;5;132;01m{}\u001b[39;00m\u001b[38;5;124m.video\u001b[39m\u001b[38;5;132;01m{:06}\u001b[39;00m\u001b[38;5;124m'\u001b[39m\u001b[38;5;241m.\u001b[39mformat(\u001b[38;5;28mself\u001b[39m\u001b[38;5;241m.\u001b[39mfile_prefix, \u001b[38;5;28mself\u001b[39m\u001b[38;5;241m.\u001b[39mfile_infix, \u001b[38;5;28mself\u001b[39m\u001b[38;5;241m.\u001b[39mepisode_id)),\n\u001b[0;32m    206\u001b[0m     metadata\u001b[38;5;241m=\u001b[39m{\u001b[38;5;124m'\u001b[39m\u001b[38;5;124mepisode_id\u001b[39m\u001b[38;5;124m'\u001b[39m: \u001b[38;5;28mself\u001b[39m\u001b[38;5;241m.\u001b[39mepisode_id},\n\u001b[0;32m    207\u001b[0m     enabled\u001b[38;5;241m=\u001b[39m\u001b[38;5;28mself\u001b[39m\u001b[38;5;241m.\u001b[39m_video_enabled(),\n\u001b[0;32m    208\u001b[0m )\n\u001b[1;32m--> 209\u001b[0m \u001b[38;5;28;43mself\u001b[39;49m\u001b[38;5;241;43m.\u001b[39;49m\u001b[43mvideo_recorder\u001b[49m\u001b[38;5;241;43m.\u001b[39;49m\u001b[43mcapture_frame\u001b[49m\u001b[43m(\u001b[49m\u001b[43m)\u001b[49m\n",
      "File \u001b[1;32m~\\Desktop\\Personal PROJECT\\REINFORCEMENT HAND ON\\Chapter2\\.venv\\Lib\\site-packages\\gym\\wrappers\\monitoring\\video_recorder.py:101\u001b[0m, in \u001b[0;36mVideoRecorder.capture_frame\u001b[1;34m(self)\u001b[0m\n\u001b[0;32m     98\u001b[0m logger\u001b[38;5;241m.\u001b[39mdebug(\u001b[38;5;124m'\u001b[39m\u001b[38;5;124mCapturing video frame: path=\u001b[39m\u001b[38;5;132;01m%s\u001b[39;00m\u001b[38;5;124m'\u001b[39m, \u001b[38;5;28mself\u001b[39m\u001b[38;5;241m.\u001b[39mpath)\n\u001b[0;32m    100\u001b[0m render_mode \u001b[38;5;241m=\u001b[39m \u001b[38;5;124m'\u001b[39m\u001b[38;5;124mansi\u001b[39m\u001b[38;5;124m'\u001b[39m \u001b[38;5;28;01mif\u001b[39;00m \u001b[38;5;28mself\u001b[39m\u001b[38;5;241m.\u001b[39mansi_mode \u001b[38;5;28;01melse\u001b[39;00m \u001b[38;5;124m'\u001b[39m\u001b[38;5;124mrgb_array\u001b[39m\u001b[38;5;124m'\u001b[39m\n\u001b[1;32m--> 101\u001b[0m frame \u001b[38;5;241m=\u001b[39m \u001b[38;5;28;43mself\u001b[39;49m\u001b[38;5;241;43m.\u001b[39;49m\u001b[43menv\u001b[49m\u001b[38;5;241;43m.\u001b[39;49m\u001b[43mrender\u001b[49m\u001b[43m(\u001b[49m\u001b[43mmode\u001b[49m\u001b[38;5;241;43m=\u001b[39;49m\u001b[43mrender_mode\u001b[49m\u001b[43m)\u001b[49m\n\u001b[0;32m    103\u001b[0m \u001b[38;5;28;01mif\u001b[39;00m frame \u001b[38;5;129;01mis\u001b[39;00m \u001b[38;5;28;01mNone\u001b[39;00m:\n\u001b[0;32m    104\u001b[0m     \u001b[38;5;28;01mif\u001b[39;00m \u001b[38;5;28mself\u001b[39m\u001b[38;5;241m.\u001b[39m_async:\n",
      "File \u001b[1;32m~\\Desktop\\Personal PROJECT\\REINFORCEMENT HAND ON\\Chapter2\\.venv\\Lib\\site-packages\\gym\\core.py:233\u001b[0m, in \u001b[0;36mWrapper.render\u001b[1;34m(self, mode, **kwargs)\u001b[0m\n\u001b[0;32m    232\u001b[0m \u001b[38;5;28;01mdef\u001b[39;00m\u001b[38;5;250m \u001b[39m\u001b[38;5;21mrender\u001b[39m(\u001b[38;5;28mself\u001b[39m, mode\u001b[38;5;241m=\u001b[39m\u001b[38;5;124m'\u001b[39m\u001b[38;5;124mhuman\u001b[39m\u001b[38;5;124m'\u001b[39m, \u001b[38;5;241m*\u001b[39m\u001b[38;5;241m*\u001b[39mkwargs):\n\u001b[1;32m--> 233\u001b[0m     \u001b[38;5;28;01mreturn\u001b[39;00m \u001b[38;5;28mself\u001b[39m\u001b[38;5;241m.\u001b[39menv\u001b[38;5;241m.\u001b[39mrender(mode, \u001b[38;5;241m*\u001b[39m\u001b[38;5;241m*\u001b[39mkwargs)\n",
      "File \u001b[1;32m~\\Desktop\\Personal PROJECT\\REINFORCEMENT HAND ON\\Chapter2\\.venv\\Lib\\site-packages\\gym\\envs\\classic_control\\cartpole.py:150\u001b[0m, in \u001b[0;36mCartPoleEnv.render\u001b[1;34m(self, mode)\u001b[0m\n\u001b[0;32m    147\u001b[0m cartheight \u001b[38;5;241m=\u001b[39m \u001b[38;5;241m30.0\u001b[39m\n\u001b[0;32m    149\u001b[0m \u001b[38;5;28;01mif\u001b[39;00m \u001b[38;5;28mself\u001b[39m\u001b[38;5;241m.\u001b[39mviewer \u001b[38;5;129;01mis\u001b[39;00m \u001b[38;5;28;01mNone\u001b[39;00m:\n\u001b[1;32m--> 150\u001b[0m     \u001b[38;5;28;01mfrom\u001b[39;00m\u001b[38;5;250m \u001b[39m\u001b[38;5;21;01mgym\u001b[39;00m\u001b[38;5;21;01m.\u001b[39;00m\u001b[38;5;21;01menvs\u001b[39;00m\u001b[38;5;21;01m.\u001b[39;00m\u001b[38;5;21;01mclassic_control\u001b[39;00m\u001b[38;5;250m \u001b[39m\u001b[38;5;28;01mimport\u001b[39;00m rendering\n\u001b[0;32m    151\u001b[0m     \u001b[38;5;28mself\u001b[39m\u001b[38;5;241m.\u001b[39mviewer \u001b[38;5;241m=\u001b[39m rendering\u001b[38;5;241m.\u001b[39mViewer(screen_width, screen_height)\n\u001b[0;32m    152\u001b[0m     l,r,t,b \u001b[38;5;241m=\u001b[39m \u001b[38;5;241m-\u001b[39mcartwidth\u001b[38;5;241m/\u001b[39m\u001b[38;5;241m2\u001b[39m, cartwidth\u001b[38;5;241m/\u001b[39m\u001b[38;5;241m2\u001b[39m, cartheight\u001b[38;5;241m/\u001b[39m\u001b[38;5;241m2\u001b[39m, \u001b[38;5;241m-\u001b[39mcartheight\u001b[38;5;241m/\u001b[39m\u001b[38;5;241m2\u001b[39m\n",
      "File \u001b[1;32m~\\Desktop\\Personal PROJECT\\REINFORCEMENT HAND ON\\Chapter2\\.venv\\Lib\\site-packages\\gym\\envs\\classic_control\\rendering.py:27\u001b[0m\n\u001b[0;32m     19\u001b[0m     \u001b[38;5;28;01mraise\u001b[39;00m \u001b[38;5;167;01mImportError\u001b[39;00m(\u001b[38;5;124m'''\u001b[39m\n\u001b[0;32m     20\u001b[0m \u001b[38;5;124m    Cannot import pyglet.\u001b[39m\n\u001b[0;32m     21\u001b[0m \u001b[38;5;124m    HINT: you can install pyglet directly via \u001b[39m\u001b[38;5;124m'\u001b[39m\u001b[38;5;124mpip install pyglet\u001b[39m\u001b[38;5;124m'\u001b[39m\u001b[38;5;124m.\u001b[39m\n\u001b[0;32m     22\u001b[0m \u001b[38;5;124m    But if you really just want to install all Gym dependencies and not have to think about it,\u001b[39m\n\u001b[0;32m     23\u001b[0m \u001b[38;5;124m    \u001b[39m\u001b[38;5;124m'\u001b[39m\u001b[38;5;124mpip install -e .[all]\u001b[39m\u001b[38;5;124m'\u001b[39m\u001b[38;5;124m or \u001b[39m\u001b[38;5;124m'\u001b[39m\u001b[38;5;124mpip install gym[all]\u001b[39m\u001b[38;5;124m'\u001b[39m\u001b[38;5;124m will do it.\u001b[39m\n\u001b[0;32m     24\u001b[0m \u001b[38;5;124m    \u001b[39m\u001b[38;5;124m'''\u001b[39m)\n\u001b[0;32m     26\u001b[0m \u001b[38;5;28;01mtry\u001b[39;00m:\n\u001b[1;32m---> 27\u001b[0m     \u001b[38;5;28;01mfrom\u001b[39;00m\u001b[38;5;250m \u001b[39m\u001b[38;5;21;01mpyglet\u001b[39;00m\u001b[38;5;21;01m.\u001b[39;00m\u001b[38;5;21;01mgl\u001b[39;00m\u001b[38;5;250m \u001b[39m\u001b[38;5;28;01mimport\u001b[39;00m \u001b[38;5;241m*\u001b[39m\n\u001b[0;32m     28\u001b[0m \u001b[38;5;28;01mexcept\u001b[39;00m \u001b[38;5;167;01mImportError\u001b[39;00m \u001b[38;5;28;01mas\u001b[39;00m e:\n\u001b[0;32m     29\u001b[0m     \u001b[38;5;28;01mraise\u001b[39;00m \u001b[38;5;167;01mImportError\u001b[39;00m(\u001b[38;5;124m'''\u001b[39m\n\u001b[0;32m     30\u001b[0m \u001b[38;5;124m    Error occurred while running `from pyglet.gl import *`\u001b[39m\n\u001b[0;32m     31\u001b[0m \u001b[38;5;124m    HINT: make sure you have OpenGL install. On Ubuntu, you can run \u001b[39m\u001b[38;5;124m'\u001b[39m\u001b[38;5;124mapt-get install python-opengl\u001b[39m\u001b[38;5;124m'\u001b[39m\u001b[38;5;124m.\u001b[39m\n\u001b[0;32m     32\u001b[0m \u001b[38;5;124m    If you\u001b[39m\u001b[38;5;124m'\u001b[39m\u001b[38;5;124mre running on a server, you may need a virtual frame buffer; something like this should work:\u001b[39m\n\u001b[0;32m     33\u001b[0m \u001b[38;5;124m    \u001b[39m\u001b[38;5;124m'\u001b[39m\u001b[38;5;124mxvfb-run -s \u001b[39m\u001b[38;5;130;01m\\\"\u001b[39;00m\u001b[38;5;124m-screen 0 1400x900x24\u001b[39m\u001b[38;5;130;01m\\\"\u001b[39;00m\u001b[38;5;124m python <your_script.py>\u001b[39m\u001b[38;5;124m'\u001b[39m\n\u001b[0;32m     34\u001b[0m \u001b[38;5;124m    \u001b[39m\u001b[38;5;124m'''\u001b[39m)\n",
      "File \u001b[1;32m~\\Desktop\\Personal PROJECT\\REINFORCEMENT HAND ON\\Chapter2\\.venv\\Lib\\site-packages\\pyglet\\gl\\__init__.py:239\u001b[0m\n\u001b[0;32m    234\u001b[0m \u001b[38;5;28;01mif\u001b[39;00m (\u001b[38;5;129;01mnot\u001b[39;00m _is_pyglet_docgen \u001b[38;5;129;01mand\u001b[39;00m\n\u001b[0;32m    235\u001b[0m     \u001b[38;5;124m'\u001b[39m\u001b[38;5;124mpyglet.window\u001b[39m\u001b[38;5;124m'\u001b[39m \u001b[38;5;129;01mnot\u001b[39;00m \u001b[38;5;129;01min\u001b[39;00m _sys\u001b[38;5;241m.\u001b[39mmodules \u001b[38;5;129;01mand\u001b[39;00m \n\u001b[0;32m    236\u001b[0m     _pyglet\u001b[38;5;241m.\u001b[39moptions[\u001b[38;5;124m'\u001b[39m\u001b[38;5;124mshadow_window\u001b[39m\u001b[38;5;124m'\u001b[39m]):\n\u001b[0;32m    237\u001b[0m     \u001b[38;5;66;03m# trickery is for circular import \u001b[39;00m\n\u001b[0;32m    238\u001b[0m     _pyglet\u001b[38;5;241m.\u001b[39mgl \u001b[38;5;241m=\u001b[39m _sys\u001b[38;5;241m.\u001b[39mmodules[\u001b[38;5;18m__name__\u001b[39m]\n\u001b[1;32m--> 239\u001b[0m     \u001b[38;5;28;01mimport\u001b[39;00m\u001b[38;5;250m \u001b[39m\u001b[38;5;21;01mpyglet\u001b[39;00m\u001b[38;5;21;01m.\u001b[39;00m\u001b[38;5;21;01mwindow\u001b[39;00m\n",
      "File \u001b[1;32m~\\Desktop\\Personal PROJECT\\REINFORCEMENT HAND ON\\Chapter2\\.venv\\Lib\\site-packages\\pyglet\\window\\__init__.py:1896\u001b[0m\n\u001b[0;32m   1894\u001b[0m \u001b[38;5;28;01mif\u001b[39;00m \u001b[38;5;129;01mnot\u001b[39;00m _is_pyglet_docgen:\n\u001b[0;32m   1895\u001b[0m     pyglet\u001b[38;5;241m.\u001b[39mwindow \u001b[38;5;241m=\u001b[39m sys\u001b[38;5;241m.\u001b[39mmodules[\u001b[38;5;18m__name__\u001b[39m]\n\u001b[1;32m-> 1896\u001b[0m     \u001b[43mgl\u001b[49m\u001b[38;5;241;43m.\u001b[39;49m\u001b[43m_create_shadow_window\u001b[49m\u001b[43m(\u001b[49m\u001b[43m)\u001b[49m\n",
      "File \u001b[1;32m~\\Desktop\\Personal PROJECT\\REINFORCEMENT HAND ON\\Chapter2\\.venv\\Lib\\site-packages\\pyglet\\gl\\__init__.py:208\u001b[0m, in \u001b[0;36m_create_shadow_window\u001b[1;34m()\u001b[0m\n\u001b[0;32m    205\u001b[0m     \u001b[38;5;28;01mreturn\u001b[39;00m\n\u001b[0;32m    207\u001b[0m \u001b[38;5;28;01mfrom\u001b[39;00m\u001b[38;5;250m \u001b[39m\u001b[38;5;21;01mpyglet\u001b[39;00m\u001b[38;5;21;01m.\u001b[39;00m\u001b[38;5;21;01mwindow\u001b[39;00m\u001b[38;5;250m \u001b[39m\u001b[38;5;28;01mimport\u001b[39;00m Window\n\u001b[1;32m--> 208\u001b[0m _shadow_window \u001b[38;5;241m=\u001b[39m \u001b[43mWindow\u001b[49m\u001b[43m(\u001b[49m\u001b[43mwidth\u001b[49m\u001b[38;5;241;43m=\u001b[39;49m\u001b[38;5;241;43m1\u001b[39;49m\u001b[43m,\u001b[49m\u001b[43m \u001b[49m\u001b[43mheight\u001b[49m\u001b[38;5;241;43m=\u001b[39;49m\u001b[38;5;241;43m1\u001b[39;49m\u001b[43m,\u001b[49m\u001b[43m \u001b[49m\u001b[43mvisible\u001b[49m\u001b[38;5;241;43m=\u001b[39;49m\u001b[38;5;28;43;01mFalse\u001b[39;49;00m\u001b[43m)\u001b[49m\n\u001b[0;32m    209\u001b[0m _shadow_window\u001b[38;5;241m.\u001b[39mswitch_to()\n\u001b[0;32m    211\u001b[0m \u001b[38;5;28;01mfrom\u001b[39;00m\u001b[38;5;250m \u001b[39m\u001b[38;5;21;01mpyglet\u001b[39;00m\u001b[38;5;250m \u001b[39m\u001b[38;5;28;01mimport\u001b[39;00m app\n",
      "File \u001b[1;32m~\\Desktop\\Personal PROJECT\\REINFORCEMENT HAND ON\\Chapter2\\.venv\\Lib\\site-packages\\pyglet\\window\\win32\\__init__.py:134\u001b[0m, in \u001b[0;36mWin32Window.__init__\u001b[1;34m(self, *args, **kwargs)\u001b[0m\n\u001b[0;32m    130\u001b[0m         \u001b[38;5;28;01melse\u001b[39;00m:\n\u001b[0;32m    131\u001b[0m             \u001b[38;5;28mself\u001b[39m\u001b[38;5;241m.\u001b[39m_event_handlers[message] \u001b[38;5;241m=\u001b[39m func\n\u001b[1;32m--> 134\u001b[0m \u001b[38;5;28msuper\u001b[39m(Win32Window, \u001b[38;5;28mself\u001b[39m)\u001b[38;5;241m.\u001b[39m\u001b[38;5;21m__init__\u001b[39m(\u001b[38;5;241m*\u001b[39margs, \u001b[38;5;241m*\u001b[39m\u001b[38;5;241m*\u001b[39mkwargs)\n",
      "File \u001b[1;32m~\\Desktop\\Personal PROJECT\\REINFORCEMENT HAND ON\\Chapter2\\.venv\\Lib\\site-packages\\pyglet\\window\\__init__.py:501\u001b[0m, in \u001b[0;36mBaseWindow.__init__\u001b[1;34m(self, width, height, caption, resizable, style, fullscreen, visible, vsync, display, screen, config, context, mode)\u001b[0m\n\u001b[0;32m    498\u001b[0m \u001b[38;5;28mself\u001b[39m\u001b[38;5;241m.\u001b[39m_event_queue \u001b[38;5;241m=\u001b[39m []\n\u001b[0;32m    500\u001b[0m \u001b[38;5;28;01mif\u001b[39;00m \u001b[38;5;129;01mnot\u001b[39;00m display:\n\u001b[1;32m--> 501\u001b[0m     display \u001b[38;5;241m=\u001b[39m \u001b[43mget_platform\u001b[49m\u001b[43m(\u001b[49m\u001b[43m)\u001b[49m\u001b[38;5;241;43m.\u001b[39;49m\u001b[43mget_default_display\u001b[49m\u001b[43m(\u001b[49m\u001b[43m)\u001b[49m\n\u001b[0;32m    503\u001b[0m \u001b[38;5;28;01mif\u001b[39;00m \u001b[38;5;129;01mnot\u001b[39;00m screen:\n\u001b[0;32m    504\u001b[0m     screen \u001b[38;5;241m=\u001b[39m display\u001b[38;5;241m.\u001b[39mget_default_screen()\n",
      "File \u001b[1;32m~\\Desktop\\Personal PROJECT\\REINFORCEMENT HAND ON\\Chapter2\\.venv\\Lib\\site-packages\\pyglet\\window\\__init__.py:1845\u001b[0m, in \u001b[0;36mPlatform.get_default_display\u001b[1;34m(self)\u001b[0m\n\u001b[0;32m   1838\u001b[0m \u001b[38;5;28;01mdef\u001b[39;00m\u001b[38;5;250m \u001b[39m\u001b[38;5;21mget_default_display\u001b[39m(\u001b[38;5;28mself\u001b[39m):\n\u001b[0;32m   1839\u001b[0m \u001b[38;5;250m    \u001b[39m\u001b[38;5;124;03m\"\"\"Get the default display device.\u001b[39;00m\n\u001b[0;32m   1840\u001b[0m \n\u001b[0;32m   1841\u001b[0m \u001b[38;5;124;03m    :deprecated: Use `pyglet.canvas.get_display`.\u001b[39;00m\n\u001b[0;32m   1842\u001b[0m \n\u001b[0;32m   1843\u001b[0m \u001b[38;5;124;03m    :rtype: `Display`\u001b[39;00m\n\u001b[0;32m   1844\u001b[0m \u001b[38;5;124;03m    \"\"\"\u001b[39;00m\n\u001b[1;32m-> 1845\u001b[0m     \u001b[38;5;28;01mreturn\u001b[39;00m \u001b[43mpyglet\u001b[49m\u001b[38;5;241;43m.\u001b[39;49m\u001b[43mcanvas\u001b[49m\u001b[38;5;241;43m.\u001b[39;49m\u001b[43mget_display\u001b[49m\u001b[43m(\u001b[49m\u001b[43m)\u001b[49m\n",
      "File \u001b[1;32m~\\Desktop\\Personal PROJECT\\REINFORCEMENT HAND ON\\Chapter2\\.venv\\Lib\\site-packages\\pyglet\\canvas\\__init__.py:77\u001b[0m, in \u001b[0;36mget_display\u001b[1;34m()\u001b[0m\n\u001b[0;32m     65\u001b[0m \u001b[38;5;250m\u001b[39m\u001b[38;5;124;03m'''Get the default display device.\u001b[39;00m\n\u001b[0;32m     66\u001b[0m \n\u001b[0;32m     67\u001b[0m \u001b[38;5;124;03mIf there is already a :class`~pyglet.canvas.Display`connection, that display will be \u001b[39;00m\n\u001b[1;32m   (...)\u001b[0m\n\u001b[0;32m     73\u001b[0m \u001b[38;5;124;03m:rtype: :class`~pyglet.canvas.Display`\u001b[39;00m\n\u001b[0;32m     74\u001b[0m \u001b[38;5;124;03m'''\u001b[39;00m\n\u001b[0;32m     75\u001b[0m \u001b[38;5;66;03m# If there's an existing display, return it (return arbitrary display if\u001b[39;00m\n\u001b[0;32m     76\u001b[0m \u001b[38;5;66;03m# there are multiple).\u001b[39;00m\n\u001b[1;32m---> 77\u001b[0m \u001b[38;5;28;01mfrom\u001b[39;00m\u001b[38;5;250m \u001b[39m\u001b[38;5;21;01mpyglet\u001b[39;00m\u001b[38;5;21;01m.\u001b[39;00m\u001b[38;5;21;01mapp\u001b[39;00m\u001b[38;5;250m \u001b[39m\u001b[38;5;28;01mimport\u001b[39;00m displays\n\u001b[0;32m     78\u001b[0m \u001b[38;5;28;01mfor\u001b[39;00m display \u001b[38;5;129;01min\u001b[39;00m displays:\n\u001b[0;32m     79\u001b[0m     \u001b[38;5;28;01mreturn\u001b[39;00m display\n",
      "File \u001b[1;32m~\\Desktop\\Personal PROJECT\\REINFORCEMENT HAND ON\\Chapter2\\.venv\\Lib\\site-packages\\pyglet\\app\\__init__.py:175\u001b[0m\n\u001b[0;32m    168\u001b[0m         \u001b[38;5;28;01mfrom\u001b[39;00m\u001b[38;5;250m \u001b[39m\u001b[38;5;21;01mpyglet\u001b[39;00m\u001b[38;5;21;01m.\u001b[39;00m\u001b[38;5;21;01mapp\u001b[39;00m\u001b[38;5;21;01m.\u001b[39;00m\u001b[38;5;21;01mxlib\u001b[39;00m\u001b[38;5;250m \u001b[39m\u001b[38;5;28;01mimport\u001b[39;00m XlibEventLoop \u001b[38;5;28;01mas\u001b[39;00m PlatformEventLoop\n\u001b[0;32m    172\u001b[0m \u001b[38;5;66;03m#: The global event loop.  Applications can replace this\u001b[39;00m\n\u001b[0;32m    173\u001b[0m \u001b[38;5;66;03m#: with their own subclass of :class:`EventLoop` before calling \u001b[39;00m\n\u001b[0;32m    174\u001b[0m \u001b[38;5;66;03m#: :meth:`EventLoop.run`.\u001b[39;00m\n\u001b[1;32m--> 175\u001b[0m event_loop \u001b[38;5;241m=\u001b[39m \u001b[43mEventLoop\u001b[49m\u001b[43m(\u001b[49m\u001b[43m)\u001b[49m\n\u001b[0;32m    177\u001b[0m platform_event_loop \u001b[38;5;241m=\u001b[39m PlatformEventLoop()\n\u001b[0;32m    179\u001b[0m \u001b[38;5;124;03m\"\"\"The platform-dependent event loop. \u001b[39;00m\n\u001b[0;32m    180\u001b[0m \u001b[38;5;124;03mApplications must not subclass or replace this :class:`PlatformEventLoop` \u001b[39;00m\n\u001b[0;32m    181\u001b[0m \u001b[38;5;124;03mobject.\u001b[39;00m\n\u001b[0;32m    182\u001b[0m \u001b[38;5;124;03m\"\"\"\u001b[39;00m\n",
      "File \u001b[1;32m~\\Desktop\\Personal PROJECT\\REINFORCEMENT HAND ON\\Chapter2\\.venv\\Lib\\site-packages\\pyglet\\app\\base.py:119\u001b[0m, in \u001b[0;36mEventLoop.__init__\u001b[1;34m(self)\u001b[0m\n\u001b[0;32m    117\u001b[0m \u001b[38;5;28;01mdef\u001b[39;00m\u001b[38;5;250m \u001b[39m\u001b[38;5;21m__init__\u001b[39m(\u001b[38;5;28mself\u001b[39m):\n\u001b[0;32m    118\u001b[0m     \u001b[38;5;28mself\u001b[39m\u001b[38;5;241m.\u001b[39m_has_exit_condition \u001b[38;5;241m=\u001b[39m threading\u001b[38;5;241m.\u001b[39mCondition()\n\u001b[1;32m--> 119\u001b[0m     \u001b[38;5;28mself\u001b[39m\u001b[38;5;241m.\u001b[39mclock \u001b[38;5;241m=\u001b[39m \u001b[43mclock\u001b[49m\u001b[38;5;241;43m.\u001b[39;49m\u001b[43mget_default\u001b[49m()\n\u001b[0;32m    120\u001b[0m     \u001b[38;5;28mself\u001b[39m\u001b[38;5;241m.\u001b[39mis_running \u001b[38;5;241m=\u001b[39m \u001b[38;5;28;01mFalse\u001b[39;00m\n",
      "File \u001b[1;32m~\\Desktop\\Personal PROJECT\\REINFORCEMENT HAND ON\\Chapter2\\.venv\\Lib\\site-packages\\pyglet\\__init__.py:384\u001b[0m, in \u001b[0;36m_ModuleProxy.__getattr__\u001b[1;34m(self, name)\u001b[0m\n\u001b[0;32m    381\u001b[0m     \u001b[38;5;28;01mraise\u001b[39;00m\n\u001b[0;32m    383\u001b[0m import_name \u001b[38;5;241m=\u001b[39m \u001b[38;5;124m'\u001b[39m\u001b[38;5;124mpyglet.\u001b[39m\u001b[38;5;132;01m%s\u001b[39;00m\u001b[38;5;124m'\u001b[39m \u001b[38;5;241m%\u001b[39m \u001b[38;5;28mself\u001b[39m\u001b[38;5;241m.\u001b[39m_module_name\n\u001b[1;32m--> 384\u001b[0m \u001b[38;5;28;43m__import__\u001b[39;49m\u001b[43m(\u001b[49m\u001b[43mimport_name\u001b[49m\u001b[43m)\u001b[49m\n\u001b[0;32m    385\u001b[0m module \u001b[38;5;241m=\u001b[39m sys\u001b[38;5;241m.\u001b[39mmodules[import_name]\n\u001b[0;32m    386\u001b[0m \u001b[38;5;28mobject\u001b[39m\u001b[38;5;241m.\u001b[39m\u001b[38;5;21m__setattr__\u001b[39m(\u001b[38;5;28mself\u001b[39m, \u001b[38;5;124m'\u001b[39m\u001b[38;5;124m_module\u001b[39m\u001b[38;5;124m'\u001b[39m, module)\n",
      "File \u001b[1;32m~\\Desktop\\Personal PROJECT\\REINFORCEMENT HAND ON\\Chapter2\\.venv\\Lib\\site-packages\\pyglet\\clock.py:166\u001b[0m\n\u001b[0;32m    163\u001b[0m         \u001b[38;5;28;01mdef\u001b[39;00m\u001b[38;5;250m \u001b[39m\u001b[38;5;21msleep\u001b[39m(\u001b[38;5;28mself\u001b[39m, microseconds):\n\u001b[0;32m    164\u001b[0m             time\u001b[38;5;241m.\u001b[39msleep(microseconds \u001b[38;5;241m*\u001b[39m \u001b[38;5;241m1e-6\u001b[39m)\n\u001b[1;32m--> 166\u001b[0m     _default_time_function \u001b[38;5;241m=\u001b[39m \u001b[43mtime\u001b[49m\u001b[38;5;241;43m.\u001b[39;49m\u001b[43mclock\u001b[49m\n\u001b[0;32m    168\u001b[0m \u001b[38;5;28;01melse\u001b[39;00m:\n\u001b[0;32m    169\u001b[0m     _c \u001b[38;5;241m=\u001b[39m pyglet\u001b[38;5;241m.\u001b[39mlib\u001b[38;5;241m.\u001b[39mload_library(\u001b[38;5;124m'\u001b[39m\u001b[38;5;124mc\u001b[39m\u001b[38;5;124m'\u001b[39m)\n",
      "\u001b[1;31mAttributeError\u001b[0m: module 'time' has no attribute 'clock'"
     ]
    }
   ],
   "source": [
    "#coding the Agent is quite short\n",
    "#init the environment\n",
    "env = gym.make(\"CartPole-v1\")\n",
    "env = gym.wrappers.Monitor(env, \"recording\")\n",
    "total_reward = 0.0\n",
    "total_steps = 0\n",
    "obs = env.reset()\n",
    "\n",
    "#take action from agent\n",
    "while True:\n",
    "    action = env.action_space.sample() #either 0 or 1\n",
    "    obs, reward, done, _ = env.step(action) #new information from taking that step\n",
    "    total_reward += reward\n",
    "    total_steps +=1\n",
    "    if done:\n",
    "        break\n",
    "print(\"Episode done in %d steps, total reward %.2f\" %(total_steps, total_reward))"
   ]
  },
  {
   "cell_type": "code",
   "execution_count": 8,
   "id": "24fd3057-5348-4ffe-93b6-03ea65138b3b",
   "metadata": {},
   "outputs": [
    {
     "name": "stdout",
     "output_type": "stream",
     "text": [
      "Random!\n",
      "reward got: 10.00\n"
     ]
    }
   ],
   "source": [
    "#introduce randomness\n",
    "from typing import TypeVar\n",
    "import random\n",
    "\n",
    "Action = TypeVar('Action') #generic type name Action instead of T\n",
    "\n",
    "class RandomActionWrapper(gym.ActionWrapper):\n",
    "    def __init__(self, env, epsilon=0.1): #set prob to 10%\n",
    "        super(RandomActionWrapper, self).__init__(env) # call the parents init environment and save the epsilon\n",
    "        self.epsilon = epsilon\n",
    "\n",
    "    def action(self, action:Action) -> Action:\n",
    "        if random.random() < self.epsilon:\n",
    "            print(\"Random!\")\n",
    "            return self.env.action_space.sample()\n",
    "        return action\n",
    "\n",
    "#init to class\n",
    "env = RandomActionWrapper(gym.make(\"CartPole-v1\"))\n",
    "\n",
    "obs = env.reset()\n",
    "\n",
    "total_reward = 0.0\n",
    "\n",
    "while True:\n",
    "    obs, reward, done, _ = env.step(0) #purposely choose 0 so we can alwasy have a 10% to go sth else\n",
    "    total_reward += reward\n",
    "    if done:\n",
    "        break\n",
    "print(\"reward got: %.2f\" % total_reward)\n",
    "        "
   ]
  },
  {
   "cell_type": "code",
   "execution_count": null,
   "id": "fa8faf84-89eb-4cda-bf28-4490cb8958c9",
   "metadata": {},
   "outputs": [],
   "source": []
  },
  {
   "cell_type": "code",
   "execution_count": null,
   "id": "3e0ee364-9c8a-4ecb-8d8a-8542436a4c83",
   "metadata": {},
   "outputs": [],
   "source": []
  }
 ],
 "metadata": {
  "kernelspec": {
   "display_name": "Python 3 (ipykernel)",
   "language": "python",
   "name": "python3"
  },
  "language_info": {
   "codemirror_mode": {
    "name": "ipython",
    "version": 3
   },
   "file_extension": ".py",
   "mimetype": "text/x-python",
   "name": "python",
   "nbconvert_exporter": "python",
   "pygments_lexer": "ipython3",
   "version": "3.10.5"
  }
 },
 "nbformat": 4,
 "nbformat_minor": 5
}
