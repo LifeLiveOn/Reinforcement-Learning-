{
 "cells": [
  {
   "cell_type": "code",
   "execution_count": 1,
   "id": "9cfb5732-b67c-4d39-855b-c3252c0d2fb4",
   "metadata": {},
   "outputs": [
    {
     "name": "stdout",
     "output_type": "stream",
     "text": [
      "[ 0.02811892  0.0437776  -0.01489726  0.01982767]\n",
      "Discrete(2)\n",
      "Box(4,)\n",
      "(array([ 0.02899447, -0.15112757, -0.01450071,  0.30777336]), 1.0, False, {})\n",
      "1\n",
      "[1.0041561e+00 2.8841428e+38 4.8391424e-02 7.0847151e+37]\n"
     ]
    }
   ],
   "source": [
    "#CartPole session\n",
    "import gym\n",
    "e = gym.make('CartPole-v1')\n",
    "\n",
    "obs = e.reset()\n",
    "print(obs) # [ 0.00000000e+00  0.00000000e+00  2.40000000e+00 -1.20000000e-01], we have 4 observations data\n",
    "print(e.action_space) # Discrete(2) , 2 actions move 0 or 1 0 to left, 1 to right\n",
    "print(e.observation_space) # Box(4,) number of observations\n",
    "\n",
    "print(e.step(0)) # take action 0 go to left, we will get a tuple of 4 values new observation\n",
    "#(array([-0.02894881, -0.2209735 ,  0.01005542,  0.33839016]), 1.0, False, {})\n",
    "#reward is 1.0, done is False, and info is empty\n",
    "\n",
    "print(e.action_space.sample()) # take a random action\n",
    "print(e.observation_space.sample()) # take a random observation"
   ]
  },
  {
   "cell_type": "code",
   "execution_count": 2,
   "id": "a5d919df-c321-45da-8013-e4bacec2a4a1",
   "metadata": {},
   "outputs": [
    {
     "name": "stdout",
     "output_type": "stream",
     "text": [
      "Episode done in 13 steps, total reward 13.00\n"
     ]
    }
   ],
   "source": [
    "#coding the Agent is quite short\n",
    "#init the environment\n",
    "env = gym.make(\"CartPole-v1\")\n",
    "env = gum.wrappers.Monitor(env, \"recording\")\n",
    "total_reward = 0.0\n",
    "total_steps = 0\n",
    "obs = env.reset()\n",
    "\n",
    "#take action from agent\n",
    "while True:\n",
    "    action = env.action_space.sample() #either 0 or 1\n",
    "    obs, reward, done, _ = env.step(action) #new information from taking that step\n",
    "    total_reward += reward\n",
    "    total_steps +=1\n",
    "    if done:\n",
    "        break\n",
    "print(\"Episode done in %d steps, total reward %.2f\" %(total_steps, total_reward))"
   ]
  },
  {
   "cell_type": "code",
   "execution_count": 8,
   "id": "24fd3057-5348-4ffe-93b6-03ea65138b3b",
   "metadata": {},
   "outputs": [
    {
     "name": "stdout",
     "output_type": "stream",
     "text": [
      "Random!\n",
      "reward got: 10.00\n"
     ]
    }
   ],
   "source": [
    "#introduce randomness\n",
    "from typing import TypeVar\n",
    "import random\n",
    "\n",
    "Action = TypeVar('Action') #generic type name Action instead of T\n",
    "\n",
    "class RandomActionWrapper(gym.ActionWrapper):\n",
    "    def __init__(self, env, epsilon=0.1): #set prob to 10%\n",
    "        super(RandomActionWrapper, self).__init__(env) # call the parents init environment and save the epsilon\n",
    "        self.epsilon = epsilon\n",
    "\n",
    "    def action(self, action:Action) -> Action:\n",
    "        if random.random() < self.epsilon:\n",
    "            print(\"Random!\")\n",
    "            return self.env.action_space.sample()\n",
    "        return action\n",
    "\n",
    "#init to class\n",
    "env = RandomActionWrapper(gym.make(\"CartPole-v1\"))\n",
    "\n",
    "obs = env.reset()\n",
    "\n",
    "total_reward = 0.0\n",
    "\n",
    "while True:\n",
    "    obs, reward, done, _ = env.step(0) #purposely choose 0 so we can alwasy have a 10% to go sth else\n",
    "    total_reward += reward\n",
    "    if done:\n",
    "        break\n",
    "print(\"reward got: %.2f\" % total_reward)\n",
    "        "
   ]
  },
  {
   "cell_type": "code",
   "execution_count": null,
   "id": "fa8faf84-89eb-4cda-bf28-4490cb8958c9",
   "metadata": {},
   "outputs": [],
   "source": []
  },
  {
   "cell_type": "code",
   "execution_count": null,
   "id": "3e0ee364-9c8a-4ecb-8d8a-8542436a4c83",
   "metadata": {},
   "outputs": [],
   "source": []
  }
 ],
 "metadata": {
  "kernelspec": {
   "display_name": "Python 3 (ipykernel)",
   "language": "python",
   "name": "python3"
  },
  "language_info": {
   "codemirror_mode": {
    "name": "ipython",
    "version": 3
   },
   "file_extension": ".py",
   "mimetype": "text/x-python",
   "name": "python",
   "nbconvert_exporter": "python",
   "pygments_lexer": "ipython3",
   "version": "3.10.5"
  }
 },
 "nbformat": 4,
 "nbformat_minor": 5
}
