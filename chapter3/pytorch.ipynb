{
 "cells": [
  {
   "cell_type": "code",
   "execution_count": 1,
   "id": "ad114fc3-14b5-44e2-abbe-354489a31d24",
   "metadata": {},
   "outputs": [],
   "source": [
    "import torch\n",
    "import torch.nn as nn\n",
    "import numpy as np\n",
    "import time\n",
    "import torch.optim as optim\n",
    "import gym"
   ]
  },
  {
   "cell_type": "code",
   "execution_count": 2,
   "id": "b4dc7817-cfe7-44c2-bd9a-ef62851c15af",
   "metadata": {},
   "outputs": [],
   "source": [
    "import math\n",
    "from tensorboardX import SummaryWriter\n",
    "\n",
    "writer = SummaryWriter()\n",
    "funcs = {\"sin\": math.sin, \"cos\": math.cos, \"tan\":math.tan}"
   ]
  },
  {
   "cell_type": "code",
   "execution_count": 4,
   "id": "c5d88eb2-70de-4688-a253-1075ddec4808",
   "metadata": {},
   "outputs": [],
   "source": [
    "for angle in range(-360,360):\n",
    "    angle_rad = angle * math.pi / 180\n",
    "    for name, fun in funcs.items():\n",
    "        val = fun(angle_rad)\n",
    "        writer.add_scalar(name, val, angle) #take 3 parameters(name of param, its value, current interation ,) we trying to add the value into writer using add_scaler\n",
    "writer.close()"
   ]
  },
  {
   "cell_type": "code",
   "execution_count": null,
   "id": "93f61697-6f59-4b61-86f6-ed234ee156f8",
   "metadata": {},
   "outputs": [],
   "source": [
    "class inputWrapper(gym.ObservationWrapper):\n",
    "    def __init__(self,*args):\n",
    "    super(inputWrapper, self).__init__(*args)\n",
    "    assert isinstance(self.observation_space, gym.spaces.Box)\n",
    "    old_space = self.observation_space\n",
    "    self.observation_space = gym.spaces.Box(\n",
    "        self.observation(old_space.low),\n",
    "        self.observation(old_space.high),\n",
    "        dtype=np.float32)\n",
    "\n",
    "    def observation(self, observation):\n",
    "        new_obs = cv2.resize(observation, (IMAGE_SIZE, IMAGE_SIZE))\n",
    "        #transform (210, 160, 3) -> (3, 210, 160)\n",
    "        new_obs = np.moveaxis(new_obs,2,0) #swap 0 with last\n",
    "        return new_obs.astype(np.float32)\n",
    "    \n",
    "    \n",
    "    "
   ]
  },
  {
   "cell_type": "code",
   "execution_count": null,
   "id": "eaa910b8-096b-47f5-940b-238870887451",
   "metadata": {},
   "outputs": [],
   "source": []
  }
 ],
 "metadata": {
  "kernelspec": {
   "display_name": "Python 3 (ipykernel)",
   "language": "python",
   "name": "python3"
  },
  "language_info": {
   "codemirror_mode": {
    "name": "ipython",
    "version": 3
   },
   "file_extension": ".py",
   "mimetype": "text/x-python",
   "name": "python",
   "nbconvert_exporter": "python",
   "pygments_lexer": "ipython3",
   "version": "3.10.5"
  }
 },
 "nbformat": 4,
 "nbformat_minor": 5
}
